{
 "cells": [
  {
   "cell_type": "markdown",
   "metadata": {},
   "source": [
    "## 1. 현재 경로의 패키지\n",
    "\n",
    "* 보기\n",
    "```\n",
    "python freeze\n",
    "```\n",
    "\n",
    "* 파일로 만들기 (파일 이름은 규칙)\n",
    "```\n",
    "pip freeze > requirements.txt\n"
    "pip install -r requirements.txt",
    "```"
   ]
  },
  {
   "cell_type": "markdown",
   "metadata": {},
   "source": [
    "## 2. 가상환경 만들기\n",
    "\n",
    "* 가상환경을 만들어서 사용해야한다.\n",
    "    * 이유?  컴퓨터마다 패키지가 없는 것도 있기 때문에 일관성있게 유지해 주기 위해서\n",
    "* 프로젝트마다 사용하는 패키지가 다르다.\n",
    "    * 위의 명령으로는 local의 모든 패키지가 나온다\n",
    "```\n",
    "python -m venv venv\n",
    "```\n",
    "* venv폴더가 생긴다\n",
    "\n",
    "* 가상환경으로 들어가기\n",
    "> window\n",
    "```\n",
    "source venv/Scripts/activate\n",
    "```\n",
    "> mac\n",
    "```\n",
    "source venv/bin/activate\n",
    "```"
   ]
  },
  {
   "cell_type": "markdown",
   "metadata": {},
   "source": [
    "#### 가상환경을 만들고 나서 필요한 것들을 설치해야한다\n",
    "\n",
    "* 처음에는 아무것도 없다\n",
    "\n",
    "```\n",
    "$ pip list\n",
    "\n",
    "Package    Version\n",
    "---------- -------\n",
    "pip        20.1.1\n",
    "setuptools 47.1.0\n",
    "\n",
    "```\n",
    "\n"
   ]
  },
  {
   "cell_type": "code",
   "execution_count": null,
   "metadata": {},
   "outputs": [],
   "source": []
  }
 ],
 "metadata": {
  "kernelspec": {
   "display_name": "Python 3",
   "language": "python",
   "name": "python3"
  },
  "language_info": {
   "codemirror_mode": {
    "name": "ipython",
    "version": 3
   },
   "file_extension": ".py",
   "mimetype": "text/x-python",
   "name": "python",
   "nbconvert_exporter": "python",
   "pygments_lexer": "ipython3",
   "version": "3.7.0"
  }
 },
 "nbformat": 4,
 "nbformat_minor": 2
}
