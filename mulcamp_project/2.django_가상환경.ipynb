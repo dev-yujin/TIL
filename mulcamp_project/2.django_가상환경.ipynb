{
 "cells": [
  {
   "cell_type": "markdown",
   "metadata": {},
   "source": [
    "## django를 가상환경에서 실행\n",
    "* 가상환경으로 실행할 폴더로 들어간다."
   ]
  },
  {
   "cell_type": "markdown",
   "metadata": {},
   "source": [
    "### 가상환경을 생성\n",
    "```c\n",
    "//가상환경 폴더이름: venv\n",
    "$ python -m venv venv\n",
    "```"
   ]
  },
  {
   "cell_type": "markdown",
   "metadata": {},
   "source": [
    "### activate.bat\n",
    "* venv/Script/ 로 이동한다\n",
    "* 실행한다\n",
    "\n",
    "```c\n",
    "$ activate.bat\n",
    "```"
   ]
  }
 ],
 "metadata": {
  "kernelspec": {
   "display_name": "Python 3",
   "language": "python",
   "name": "python3"
  },
  "language_info": {
   "codemirror_mode": {
    "name": "ipython",
    "version": 3
   },
   "file_extension": ".py",
   "mimetype": "text/x-python",
   "name": "python",
   "nbconvert_exporter": "python",
   "pygments_lexer": "ipython3",
   "version": "3.7.0"
  }
 },
 "nbformat": 4,
 "nbformat_minor": 2
}
