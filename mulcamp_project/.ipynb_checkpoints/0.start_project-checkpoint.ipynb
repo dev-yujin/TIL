{
 "cells": [
  {
   "cell_type": "markdown",
   "metadata": {},
   "source": [
    "### pip 한번에 하기\n",
    "\n",
    "* 현재 디렉토리에서 필요한 pip를 txt형식으로 만들어 준다\n",
    "```\n",
    "pip freeze > requirement.txt\n",
    "```\n",
    "\n",
    "\n",
    "* 파일 내용\n",
    "```text\n",
    "mccabe==0.6.1\n",
    "mysqlclient==2.0.1\n",
    "numpy==1.19.0\n",
    "pandas==1.0.5\n",
    "pycodestyle==2.6.0\n",
    "pyflakes==2.2.0\n",
    "PyMySQL==0.10.0\n",
    "python-dateutil==2.8.1\n",
    "```\n"
   ]
  },
  {
   "cell_type": "markdown",
   "metadata": {},
   "source": [
    "* pip 한번에 하기\n",
    "\n",
    "```\n",
    "pip install -r requirement.txt\n",
    "```"
   ]
  }
 ],
 "metadata": {
  "kernelspec": {
   "display_name": "Python 3",
   "language": "python",
   "name": "python3"
  },
  "language_info": {
   "codemirror_mode": {
    "name": "ipython",
    "version": 3
   },
   "file_extension": ".py",
   "mimetype": "text/x-python",
   "name": "python",
   "nbconvert_exporter": "python",
   "pygments_lexer": "ipython3",
   "version": "3.7.0"
  }
 },
 "nbformat": 4,
 "nbformat_minor": 2
}
