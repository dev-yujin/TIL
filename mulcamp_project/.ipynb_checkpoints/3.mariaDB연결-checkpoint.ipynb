{
 "cells": [
  {
   "cell_type": "markdown",
   "metadata": {},
   "source": [
    "### db id생성\n",
    "* id,password : root, root\n",
    "* id,password : zzid, zzid\n",
    "\n",
    "```mysql\n",
    "CREATE USER '아이디'@'%' IDENTIFIED BY '비밀번호';\n",
    "```\n",
    "---\n",
    "### django setting.py 수정"
   ]
  },
  {
   "cell_type": "code",
   "execution_count": 3,
   "metadata": {},
   "outputs": [],
   "source": [
    "\n",
    "# settings.py\n",
    "DATABASES = {\n",
    "    # 'default': {\n",
    "    #     'ENGINE': 'django.db.backends.sqlite3',\n",
    "    #     'NAME': os.path.join(BASE_DIR, 'db.sqlite3'),\n",
    "    # }\n",
    "\n",
    "    'default': {\n",
    "         'ENGINE': 'django.db.backends.mysql',\n",
    "         'NAME': 'safe_home_db', # DB명\n",
    "         'USER': 'zzid', # 데이터베이스 계정\n",
    "         'PASSWORD':'zzid', # 계정 비밀번호\n",
    "         'HOST':'192.168.0.30', # 데이테베이스 IP # 유진 컴퓨터 ip\n",
    "         'PORT':'3306', # 데이터베이스 port\n",
    "    }\n",
    "}"
   ]
  },
  {
   "cell_type": "markdown",
   "metadata": {},
   "source": [
    "---\n",
    "### db 권한주기\n",
    "* mariaDB mysql client에서 root 계정으로 로그인 한 후,\n",
    "\n",
    "```mysql\n",
    "# 권한 주기\n",
    "grant all privileges on*.* to 'root'@'%' identified by 'DB 비밀번호';\n",
    "\n",
    "# 확인하기\n",
    "select host, user, password  from user;\n",
    "\n",
    "```\n",
    "\n",
    "* host: % , user : root를 확인한다\n",
    "\n",
    "```mysql\n",
    "# 저장한다\n",
    "flush privileges;\n",
    "```"
   ]
  },
  {
   "cell_type": "markdown",
   "metadata": {},
   "source": [
    "---\n",
    "### django  models.py 작성\n",
    "\n",
    "```python\n",
    "from django.db import models\n",
    "\n",
    "# mariaDB에 safehome_crime 으로 table 추가(자동)\n",
    "class Crime(models.Model):\n",
    "    id = models.IntegerField(primary_key=True, default = '')\n",
    "    # 자치구 이름\n",
    "    area = models.CharField(max_length=30)\n",
    "\n",
    "    # 살인\n",
    "    murder = models.IntegerField()\n",
    "    # 강도\n",
    "    robber = models.IntegerField()\n",
    "    # 강간강제추행\n",
    "    rape = models.IntegerField()\n",
    "    # 절도\n",
    "    theft = models.IntegerField()\n",
    "    # 폭력\n",
    "    violence = models.IntegerField()\n",
    "\n",
    "    # 범죄 검거율\n",
    "    arrest = models.IntegerField()\n",
    "\n",
    "    def __str__(self):\n",
    "        return self.area  # 자치구 이름으로 admin에 보이도록한다\n",
    "```\n",
    "\n",
    "* 이후 makemigration하고 migrate한다.\n",
    "* mariaDB에서 safehome_area, safehome_crime을 확인한다."
   ]
  },
  {
   "cell_type": "markdown",
   "metadata": {},
   "source": [
    "---\n",
    "## csv 파일 db에 넣기\n",
    "* pycharm에서 database 를 연결하고, console을 띄워 실행한다\n",
    "> database 연결시, host부분에 연결할 db의 ip를 입력해준다\n",
    "\n",
    "```mysql\n",
    "use safe_home_db;\n",
    "\n",
    "# utf8 중요!!!\n",
    "alter table safehome_crime convert to charset utf8;\n",
    "\n",
    "# csv파일 집어넣기\n",
    "# utf8 중요\n",
    "load data local infile '/Users/i/Desktop/crime_in_seoul.csv'\n",
    "IGNORE INTO TABLE safehome_crime\n",
    "CHARACTER SET UTF8\n",
    "fields terminated by ',';\n",
    "\n",
    "# table 비우기\n",
    "TRUNCATE TABLE safehome_crime;\n",
    "```\n",
    "\n",
    "\n",
    "\n",
    "\n"
   ]
  },
  {
   "cell_type": "code",
   "execution_count": null,
   "metadata": {},
   "outputs": [],
   "source": []
  }
 ],
 "metadata": {
  "kernelspec": {
   "display_name": "Python 3",
   "language": "python",
   "name": "python3"
  },
  "language_info": {
   "codemirror_mode": {
    "name": "ipython",
    "version": 3
   },
   "file_extension": ".py",
   "mimetype": "text/x-python",
   "name": "python",
   "nbconvert_exporter": "python",
   "pygments_lexer": "ipython3",
   "version": "3.7.0"
  }
 },
 "nbformat": 4,
 "nbformat_minor": 2
}
