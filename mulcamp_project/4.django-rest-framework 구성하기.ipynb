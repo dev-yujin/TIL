{
 "cells": [
  {
   "cell_type": "markdown",
   "metadata": {},
   "source": [
    "# django-rest-framework 구성하기\n"
   ]
  },
  {
   "cell_type": "markdown",
   "metadata": {},
   "source": [
    "### 1. django-rest-framework를 설치\n",
    "\n",
    "```\n",
    "pip install djangorestframework\n",
    "```"
   ]
  },
  {
   "cell_type": "markdown",
   "metadata": {},
   "source": [
    "### 2. settings.py 수정\n",
    "\n",
    "```python\n",
    "INSTALLED_APPS = [\n",
    "    'django.contrib.admin',\n",
    "    'django.contrib.auth',\n",
    "    'django.contrib.contenttypes',\n",
    "    'django.contrib.sessions',\n",
    "    'django.contrib.messages',\n",
    "    'django.contrib.staticfiles',\n",
    "    \n",
    "    'post',\n",
    "    'rest_framework', #추가\n",
    "    \n",
    "]\n",
    "...\n",
    "#이하 추가\n",
    "REST_FRAMEWORK = {\n",
    "    'DEFAULT_PERMISSION_CLASSES': [\n",
    "        'rest_framework.permissions.AllowAny',\n",
    "    ]\n",
    "}\n",
    "```"
   ]
  },
  {
   "cell_type": "markdown",
   "metadata": {},
   "source": [
    "### 3. 반환값을 JSON으로 직렬화(Serialize)\n",
    "* DRF는 자동으로 pk값을 index로 지정해서 뿌려준다.\n",
    "* 이제 api app을 추가하였으니 api루트로 들어왔을 때 데이터를 보낼 수 있게 해야한다.\n",
    "* 어떤 형식의 데이터를 보낼지는 post app디렉토리 안의 view.py에서 정해진다.\n",
    "* 중요한 것은 **serializers**이다.\n",
    "\n",
    "\n",
    "> django + react 앱은 api요청을 통해 데이터를 주고 받는데 많은 사람들이 아다시피 api요청 및 반환값은 데이터포멧이 JSON(JavaScript Object Notation)으로 되어있다. 그래서 반환값을 JSON으로 직렬화(Serialize)해주는 것이 필요하다. 이때 필요한 것이 DRF의 serializers이다. 만들어져있는 파일이 아니니 직접 만들어 작성해야한다."
   ]
  },
  {
   "cell_type": "markdown",
   "metadata": {},
   "source": [
    "* safehome/serializers.py\n",
    "\n",
    "```python\n",
    "from rest_framework import serializers\n",
    "from .models import Crime\n",
    "\n",
    "class CrimeSerializer(serializers.ModelSerializer):\n",
    "    class Meta:\n",
    "        fields = (\n",
    "            'id',\n",
    "            'area',\n",
    "            'murder',\n",
    "            'robber',\n",
    "            'rape',\n",
    "            'theft',\n",
    "            'violence',\n",
    "            'total',\n",
    "            'arr_total',\n",
    "            'arrest'\n",
    "        )\n",
    "        model = Crime\n",
    "```"
   ]
  },
  {
   "cell_type": "markdown",
   "metadata": {},
   "source": [
    "* seializer가 작성되었으면 views.py를 작성\n",
    "\n",
    "```python\n",
    "#/safehome/views.py\n",
    "from django.shortcuts import render\n",
    "from rest_framework import generics\n",
    "\n",
    "from .models import Crime\n",
    "from .serializers import CrimeSerializer\n",
    "\n",
    "class ListCrime(generics.ListCreateAPIView):\n",
    "    queryset = Crime.objects.all()\n",
    "    serializer_class = CrimeSerializer\n",
    "\n",
    "class DetailCrime(generics.RetrieveUpdateDestroyAPIView):\n",
    "    queryset = Crime.objects.all()\n",
    "    serializer_class = CrimeSerializer\n",
    "# Create your views here.\n",
    "\n",
    "```"
   ]
  },
  {
   "cell_type": "markdown",
   "metadata": {},
   "source": [
    "* api요청이 들어오면 Post 데이터를 보내야하므로 urls.py를 만들어서 작성\n",
    "\n",
    "```python\n",
    "from django.urls import path\n",
    "\n",
    "from . import views\n",
    "\n",
    "urlpatterns = [\n",
    "    path('', views.ListCrime.as_view()),\n",
    "    path('<int:pk>/', views.DetailCrime.as_view()),\n",
    "]\n",
    "```\n",
    "\n",
    "* 이제 django api서버의 준비는 완료\n",
    "\n",
    "* 0.0.0.0/api 로 접속해보면  List Crime을 확인해 볼 수 있다\n",
    "![list_cirme](img/list_crime.PNG)"
   ]
  },
  {
   "cell_type": "markdown",
   "metadata": {},
   "source": [
    "* script태그 안에서의 api를 통한 데이터의 접근제어를 위해 HTTP 접근제어 규약(CORS : Cross-Origin Resource Sharing)을 추가\n",
    "* 기존의 HTTP요청에서는 img나 link태그 등으로 다른 호스트의 css나 이미지파일 등의 리소스를 가져오는 것이 가능한데 script태그로 쌓여진 코드에서의 다른 도메인에 대한 요청은 Same-origin policy에 대한 규약으로 인해 접근이 불가\n",
    "*  react는 거의가 script요청에 의해 페이지를 그리는 방식이므로 이제 대한 제약 해제가 필요\n",
    "* django로 돌아가고 있는 api서버와 페이지를 그려주는 react서버는 명목상 아예 다른 서버로 구분되기 때문이다.\n",
    "\n",
    "* 패키지 설치\n",
    "```\n",
    "pip install django-cors-headers\n",
    "```\n",
    "\n",
    "* test_django/settings.py\n",
    "\n",
    "```python\n",
    "INSTALLED_APPS = [\n",
    "    'corsheaders', # 추가\n",
    "]\n",
    "\n",
    "...\n",
    "\n",
    "MIDDLEWARE = [\n",
    "    'corsheaders.middleware.CorsMiddleware',     # 추가\n",
    "    'django.middleware.common.CommonMiddleware', # 추가\n",
    "]\n",
    "\n",
    "...\n",
    "\n",
    "#script안에서의 리소스 요청을 허용할 도메인 추가\n",
    "# CORS_ORIGIN_WHITELIST = (\n",
    "#     'localhost:3000/'\n",
    "# )\n",
    "\n",
    "# 모든 도메인 허용\n",
    "CORS_ORIGIN_ALLOW_ALL = True\n",
    "\n",
    "```\n",
    "\n",
    "\n",
    "* 이제 react앱에서 django에서 전송해주는 데이터를 받아올 수 있다"
   ]
  }
 ],
 "metadata": {
  "kernelspec": {
   "display_name": "Python 3",
   "language": "python",
   "name": "python3"
  },
  "language_info": {
   "codemirror_mode": {
    "name": "ipython",
    "version": 3
   },
   "file_extension": ".py",
   "mimetype": "text/x-python",
   "name": "python",
   "nbconvert_exporter": "python",
   "pygments_lexer": "ipython3",
   "version": "3.7.0"
  }
 },
 "nbformat": 4,
 "nbformat_minor": 2
}
