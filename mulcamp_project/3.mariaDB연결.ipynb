{
 "cells": [
  {
   "cell_type": "markdown",
   "metadata": {},
   "source": [
    "### db id생성\n",
    "* id,password : cloud"
   ]
  },
  {
   "cell_type": "code",
   "execution_count": 2,
   "metadata": {},
   "outputs": [],
   "source": [
    "# settings.py\n",
    "DATABASES = {\n",
    "    # 'default': {\n",
    "    #     'ENGINE': 'django.db.backends.sqlite3',\n",
    "    #     'NAME': os.path.join(BASE_DIR, 'db.sqlite3'),\n",
    "    # }\n",
    "\n",
    "    'default': {\n",
    "         'ENGINE': 'django.db.backends.mysql',\n",
    "         'NAME': 'test_django_db', # DB명\n",
    "         'USER': 'root', # 데이터베이스 계정\n",
    "         'PASSWORD':'root', # 계정 비밀번호\n",
    "         'HOST':'192.168.0.30', # 데이테베이스 IP # 유진 컴퓨터 ip\n",
    "         'PORT':'3306', # 데이터베이스 port\n",
    "    }\n",
    "}"
   ]
  },
  {
   "cell_type": "code",
   "execution_count": null,
   "metadata": {},
   "outputs": [],
   "source": []
  }
 ],
 "metadata": {
  "kernelspec": {
   "display_name": "Python 3",
   "language": "python",
   "name": "python3"
  },
  "language_info": {
   "codemirror_mode": {
    "name": "ipython",
    "version": 3
   },
   "file_extension": ".py",
   "mimetype": "text/x-python",
   "name": "python",
   "nbconvert_exporter": "python",
   "pygments_lexer": "ipython3",
   "version": "3.7.0"
  }
 },
 "nbformat": 4,
 "nbformat_minor": 2
}
