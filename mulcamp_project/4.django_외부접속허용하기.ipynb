{
 "cells": [
  {
   "cell_type": "markdown",
   "metadata": {},
   "source": [
    "## Django 외부접속 허용하기\n",
    "\n",
    "* settings.py\n",
    "\n",
    "```python\n",
    "ALLOWED_HOSTS = ['*']\n",
    "```"
   ]
  },
  {
   "cell_type": "markdown",
   "metadata": {},
   "source": [
    "* terminal \n",
    "\n",
    "```console\n",
    "python manage.py runserver 0.0.0.0:8080\n",
    "\n",
    "// 8080은 원하는 포트번호\n",
    "```"
   ]
  },
  {
   "cell_type": "markdown",
   "metadata": {},
   "source": [
    "* \"server컴퓨터ip:8080\"로 접속하면 된다"
   ]
  }
 ],
 "metadata": {
  "kernelspec": {
   "display_name": "Python 3",
   "language": "python",
   "name": "python3"
  },
  "language_info": {
   "codemirror_mode": {
    "name": "ipython",
    "version": 3
   },
   "file_extension": ".py",
   "mimetype": "text/x-python",
   "name": "python",
   "nbconvert_exporter": "python",
   "pygments_lexer": "ipython3",
   "version": "3.7.0"
  }
 },
 "nbformat": 4,
 "nbformat_minor": 2
}
